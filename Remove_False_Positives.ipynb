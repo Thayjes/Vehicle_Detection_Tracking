{
 "cells": [
  {
   "cell_type": "code",
   "execution_count": 1,
   "metadata": {
    "collapsed": true
   },
   "outputs": [],
   "source": [
    "from matplotlib.pyplot import cm\n",
    "def add_heat(heatmap, bbox_list):\n",
    "    # Iterate through list of bboxes\n",
    "    \n",
    "    for box in bbox_list:\n",
    "        # Add += 1 for all pixels inside each bbox\n",
    "        # Assuming each \"box\" takes the form ((x1, y1), (x2, y2))\n",
    "        heatmap[box[0][1]:box[1][1], box[0][0]:box[1][0]] += 6\n",
    "\n",
    "    # Return updated heatmap    \n",
    "    #plt.imshow(heatmap, cmap = cm.Reds)\n",
    "    #plt.show()\n",
    "    return heatmap\n",
    "\n",
    "def apply_threshold(heatmap, threshold):\n",
    "    # Zero out pixels below the threshold\n",
    "    heatmap[heatmap <= threshold] = 0\n",
    "    # Return thresholded map\n",
    "    return heatmap\n",
    "\n",
    "def get_labels(heatmap, plot_label = True):    \n",
    "    #heatmap = apply_threshold(heatmap, thresh)\n",
    "    #plt.imshow(heatmap), plt.title(\"Thresholded heat map\"), plt.show()\n",
    "    labels = label(heatmap)\n",
    "    print(labels[1], 'cars found')\n",
    "    if plot_label is True:\n",
    "        plt.figure(),plt.imshow(labels[0], cmap='gray')\n",
    "        plt.title(\"Labels of Thresholded HeatMap\")\n",
    "        plt.savefig(\"../Vehicle_Detection_Tracking/writeup_images/heatmap_labels.jpg\")\n",
    "        plt.show()\n",
    "    return labels\n",
    "\n",
    "def draw_labeled_bboxes(img, labels, draw = False):\n",
    "    # Iterate through all detected cars\n",
    "    bbox_new_list = []\n",
    "    for car_number in range(1, labels[1]+1):\n",
    "        # Find pixels with each car_number label value\n",
    "        nonzero = (labels[0] == car_number).nonzero()\n",
    "        # Identify x and y values of those pixels\n",
    "        nonzeroy = np.array(nonzero[0])\n",
    "        nonzerox = np.array(nonzero[1])\n",
    "        # Define a bounding box based on min/max x and y\n",
    "        bbox = ((np.min(nonzerox), np.min(nonzeroy)), (np.max(nonzerox), np.max(nonzeroy)))\n",
    "        print(np.max(nonzerox) - np.min(nonzerox))\n",
    "        print(np.max(nonzeroy) - np.min(nonzeroy))\n",
    "        # Draw the box on the image\n",
    "        if draw is True:\n",
    "            if((bbox[1][0] - bbox[0][0] > 110) & (bbox[1][1] - bbox[0][1] > 100)):\n",
    "                cv2.rectangle(img, bbox[0], bbox[1], (0,0,255), 6)\n",
    "        bbox_new_list.append(bbox)\n",
    "    # Return the image\n",
    "    if draw is True:\n",
    "        return img , bbox_new_list\n",
    "    else:\n",
    "        return bbox_new_list\n",
    "\n",
    "\n"
   ]
  }
 ],
 "metadata": {
  "kernelspec": {
   "display_name": "Python 3",
   "language": "python",
   "name": "python3"
  },
  "language_info": {
   "codemirror_mode": {
    "name": "ipython",
    "version": 3
   },
   "file_extension": ".py",
   "mimetype": "text/x-python",
   "name": "python",
   "nbconvert_exporter": "python",
   "pygments_lexer": "ipython3",
   "version": "3.6.1"
  }
 },
 "nbformat": 4,
 "nbformat_minor": 2
}
